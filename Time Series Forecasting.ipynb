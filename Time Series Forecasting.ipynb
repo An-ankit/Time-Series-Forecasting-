{
 "cells": [
  {
   "cell_type": "markdown",
   "id": "536b0c77",
   "metadata": {},
   "source": [
    "# Time Series Forecasting\n",
    "# Applying model on 'AvgTemp' data"
   ]
  },
  {
   "cell_type": "code",
   "execution_count": 1,
   "id": "8fef874c",
   "metadata": {},
   "outputs": [
    {
     "name": "stdout",
     "output_type": "stream",
     "text": [
      "Imported Sucessfully\n"
     ]
    }
   ],
   "source": [
    "# Import required libraries\n",
    "import numpy as np\n",
    "import pandas as pd\n",
    "import matplotlib.pyplot as plt\n",
    "import seaborn as sns\n",
    "print(\"Imported Sucessfully\")"
   ]
  },
  {
   "cell_type": "code",
   "execution_count": 2,
   "id": "e3a2efa7",
   "metadata": {},
   "outputs": [
    {
     "name": "stdout",
     "output_type": "stream",
     "text": [
      "Reading done!\n"
     ]
    }
   ],
   "source": [
    "#Reading data\n",
    "data= pd.read_csv('MaunaLoaDailyTemps.csv',index_col='DATE',parse_dates=True)\n",
    "print(\"Reading done!\")"
   ]
  },
  {
   "cell_type": "markdown",
   "id": "ff505e6a",
   "metadata": {},
   "source": [
    "#### Data Preprocessing"
   ]
  },
  {
   "cell_type": "code",
   "execution_count": 3,
   "id": "e63bbb1c",
   "metadata": {},
   "outputs": [
    {
     "data": {
      "text/html": [
       "<div>\n",
       "<style scoped>\n",
       "    .dataframe tbody tr th:only-of-type {\n",
       "        vertical-align: middle;\n",
       "    }\n",
       "\n",
       "    .dataframe tbody tr th {\n",
       "        vertical-align: top;\n",
       "    }\n",
       "\n",
       "    .dataframe thead th {\n",
       "        text-align: right;\n",
       "    }\n",
       "</style>\n",
       "<table border=\"1\" class=\"dataframe\">\n",
       "  <thead>\n",
       "    <tr style=\"text-align: right;\">\n",
       "      <th></th>\n",
       "      <th>MinTemp</th>\n",
       "      <th>MaxTemp</th>\n",
       "      <th>AvgTemp</th>\n",
       "      <th>Sunrise</th>\n",
       "      <th>Sunset</th>\n",
       "    </tr>\n",
       "    <tr>\n",
       "      <th>DATE</th>\n",
       "      <th></th>\n",
       "      <th></th>\n",
       "      <th></th>\n",
       "      <th></th>\n",
       "      <th></th>\n",
       "    </tr>\n",
       "  </thead>\n",
       "  <tbody>\n",
       "    <tr>\n",
       "      <th>2014-01-01</th>\n",
       "      <td>33.0</td>\n",
       "      <td>46.0</td>\n",
       "      <td>40.0</td>\n",
       "      <td>657</td>\n",
       "      <td>1756</td>\n",
       "    </tr>\n",
       "    <tr>\n",
       "      <th>2014-01-02</th>\n",
       "      <td>35.0</td>\n",
       "      <td>50.0</td>\n",
       "      <td>43.0</td>\n",
       "      <td>657</td>\n",
       "      <td>1756</td>\n",
       "    </tr>\n",
       "    <tr>\n",
       "      <th>2014-01-03</th>\n",
       "      <td>36.0</td>\n",
       "      <td>45.0</td>\n",
       "      <td>41.0</td>\n",
       "      <td>657</td>\n",
       "      <td>1757</td>\n",
       "    </tr>\n",
       "    <tr>\n",
       "      <th>2014-01-04</th>\n",
       "      <td>32.0</td>\n",
       "      <td>41.0</td>\n",
       "      <td>37.0</td>\n",
       "      <td>658</td>\n",
       "      <td>1757</td>\n",
       "    </tr>\n",
       "    <tr>\n",
       "      <th>2014-01-05</th>\n",
       "      <td>24.0</td>\n",
       "      <td>38.0</td>\n",
       "      <td>31.0</td>\n",
       "      <td>658</td>\n",
       "      <td>1758</td>\n",
       "    </tr>\n",
       "  </tbody>\n",
       "</table>\n",
       "</div>"
      ],
      "text/plain": [
       "            MinTemp  MaxTemp  AvgTemp  Sunrise  Sunset\n",
       "DATE                                                  \n",
       "2014-01-01     33.0     46.0     40.0      657    1756\n",
       "2014-01-02     35.0     50.0     43.0      657    1756\n",
       "2014-01-03     36.0     45.0     41.0      657    1757\n",
       "2014-01-04     32.0     41.0     37.0      658    1757\n",
       "2014-01-05     24.0     38.0     31.0      658    1758"
      ]
     },
     "execution_count": 3,
     "metadata": {},
     "output_type": "execute_result"
    }
   ],
   "source": [
    "data.head()"
   ]
  },
  {
   "cell_type": "code",
   "execution_count": 4,
   "id": "b2ea10dc",
   "metadata": {},
   "outputs": [
    {
     "data": {
      "text/plain": [
       "(1825, 5)"
      ]
     },
     "execution_count": 4,
     "metadata": {},
     "output_type": "execute_result"
    }
   ],
   "source": [
    "data.shape"
   ]
  },
  {
   "cell_type": "code",
   "execution_count": 5,
   "id": "3e7dab46",
   "metadata": {},
   "outputs": [
    {
     "data": {
      "text/plain": [
       "MinTemp    4\n",
       "MaxTemp    4\n",
       "AvgTemp    4\n",
       "Sunrise    0\n",
       "Sunset     0\n",
       "dtype: int64"
      ]
     },
     "execution_count": 5,
     "metadata": {},
     "output_type": "execute_result"
    }
   ],
   "source": [
    "data.isnull().sum()"
   ]
  },
  {
   "cell_type": "code",
   "execution_count": 6,
   "id": "1011fc5f",
   "metadata": {},
   "outputs": [],
   "source": [
    "df=data.dropna()"
   ]
  },
  {
   "cell_type": "code",
   "execution_count": 7,
   "id": "a5dd0cbe",
   "metadata": {},
   "outputs": [
    {
     "data": {
      "text/plain": [
       "(1821, 5)"
      ]
     },
     "execution_count": 7,
     "metadata": {},
     "output_type": "execute_result"
    }
   ],
   "source": [
    "df.shape"
   ]
  },
  {
   "cell_type": "code",
   "execution_count": 8,
   "id": "7d469233",
   "metadata": {},
   "outputs": [
    {
     "data": {
      "text/plain": [
       "MinTemp    0\n",
       "MaxTemp    0\n",
       "AvgTemp    0\n",
       "Sunrise    0\n",
       "Sunset     0\n",
       "dtype: int64"
      ]
     },
     "execution_count": 8,
     "metadata": {},
     "output_type": "execute_result"
    }
   ],
   "source": [
    "df.isnull().sum()"
   ]
  },
  {
   "cell_type": "code",
   "execution_count": 9,
   "id": "27a2dd0c",
   "metadata": {},
   "outputs": [
    {
     "data": {
      "text/html": [
       "<div>\n",
       "<style scoped>\n",
       "    .dataframe tbody tr th:only-of-type {\n",
       "        vertical-align: middle;\n",
       "    }\n",
       "\n",
       "    .dataframe tbody tr th {\n",
       "        vertical-align: top;\n",
       "    }\n",
       "\n",
       "    .dataframe thead th {\n",
       "        text-align: right;\n",
       "    }\n",
       "</style>\n",
       "<table border=\"1\" class=\"dataframe\">\n",
       "  <thead>\n",
       "    <tr style=\"text-align: right;\">\n",
       "      <th></th>\n",
       "      <th>MinTemp</th>\n",
       "      <th>MaxTemp</th>\n",
       "      <th>AvgTemp</th>\n",
       "      <th>Sunrise</th>\n",
       "      <th>Sunset</th>\n",
       "    </tr>\n",
       "    <tr>\n",
       "      <th>DATE</th>\n",
       "      <th></th>\n",
       "      <th></th>\n",
       "      <th></th>\n",
       "      <th></th>\n",
       "      <th></th>\n",
       "    </tr>\n",
       "  </thead>\n",
       "  <tbody>\n",
       "    <tr>\n",
       "      <th>2014-01-01</th>\n",
       "      <td>33.0</td>\n",
       "      <td>46.0</td>\n",
       "      <td>40.0</td>\n",
       "      <td>657</td>\n",
       "      <td>1756</td>\n",
       "    </tr>\n",
       "    <tr>\n",
       "      <th>2014-01-02</th>\n",
       "      <td>35.0</td>\n",
       "      <td>50.0</td>\n",
       "      <td>43.0</td>\n",
       "      <td>657</td>\n",
       "      <td>1756</td>\n",
       "    </tr>\n",
       "    <tr>\n",
       "      <th>2014-01-03</th>\n",
       "      <td>36.0</td>\n",
       "      <td>45.0</td>\n",
       "      <td>41.0</td>\n",
       "      <td>657</td>\n",
       "      <td>1757</td>\n",
       "    </tr>\n",
       "    <tr>\n",
       "      <th>2014-01-04</th>\n",
       "      <td>32.0</td>\n",
       "      <td>41.0</td>\n",
       "      <td>37.0</td>\n",
       "      <td>658</td>\n",
       "      <td>1757</td>\n",
       "    </tr>\n",
       "    <tr>\n",
       "      <th>2014-01-05</th>\n",
       "      <td>24.0</td>\n",
       "      <td>38.0</td>\n",
       "      <td>31.0</td>\n",
       "      <td>658</td>\n",
       "      <td>1758</td>\n",
       "    </tr>\n",
       "    <tr>\n",
       "      <th>2014-01-06</th>\n",
       "      <td>22.0</td>\n",
       "      <td>39.0</td>\n",
       "      <td>31.0</td>\n",
       "      <td>658</td>\n",
       "      <td>1759</td>\n",
       "    </tr>\n",
       "    <tr>\n",
       "      <th>2014-01-07</th>\n",
       "      <td>28.0</td>\n",
       "      <td>45.0</td>\n",
       "      <td>37.0</td>\n",
       "      <td>658</td>\n",
       "      <td>1759</td>\n",
       "    </tr>\n",
       "    <tr>\n",
       "      <th>2014-01-08</th>\n",
       "      <td>30.0</td>\n",
       "      <td>41.0</td>\n",
       "      <td>36.0</td>\n",
       "      <td>659</td>\n",
       "      <td>1800</td>\n",
       "    </tr>\n",
       "    <tr>\n",
       "      <th>2014-01-09</th>\n",
       "      <td>29.0</td>\n",
       "      <td>42.0</td>\n",
       "      <td>36.0</td>\n",
       "      <td>659</td>\n",
       "      <td>1801</td>\n",
       "    </tr>\n",
       "    <tr>\n",
       "      <th>2014-01-10</th>\n",
       "      <td>30.0</td>\n",
       "      <td>47.0</td>\n",
       "      <td>39.0</td>\n",
       "      <td>659</td>\n",
       "      <td>1801</td>\n",
       "    </tr>\n",
       "  </tbody>\n",
       "</table>\n",
       "</div>"
      ],
      "text/plain": [
       "            MinTemp  MaxTemp  AvgTemp  Sunrise  Sunset\n",
       "DATE                                                  \n",
       "2014-01-01     33.0     46.0     40.0      657    1756\n",
       "2014-01-02     35.0     50.0     43.0      657    1756\n",
       "2014-01-03     36.0     45.0     41.0      657    1757\n",
       "2014-01-04     32.0     41.0     37.0      658    1757\n",
       "2014-01-05     24.0     38.0     31.0      658    1758\n",
       "2014-01-06     22.0     39.0     31.0      658    1759\n",
       "2014-01-07     28.0     45.0     37.0      658    1759\n",
       "2014-01-08     30.0     41.0     36.0      659    1800\n",
       "2014-01-09     29.0     42.0     36.0      659    1801\n",
       "2014-01-10     30.0     47.0     39.0      659    1801"
      ]
     },
     "execution_count": 9,
     "metadata": {},
     "output_type": "execute_result"
    }
   ],
   "source": [
    "df.head(10)"
   ]
  },
  {
   "cell_type": "code",
   "execution_count": 10,
   "id": "788f000c",
   "metadata": {},
   "outputs": [
    {
     "data": {
      "text/plain": [
       "<AxesSubplot:xlabel='DATE'>"
      ]
     },
     "execution_count": 10,
     "metadata": {},
     "output_type": "execute_result"
    },
    {
     "data": {
      "image/png": "[encoded data removed]",
      "text/plain": [
       "<Figure size 864x360 with 1 Axes>"
      ]
     },
     "metadata": {
      "needs_background": "light"
     },
     "output_type": "display_data"
    }
   ],
   "source": [
    "# Plotting graph\n",
    "df['AvgTemp'].plot(figsize=(12,5))"
   ]
  },
  {
   "cell_type": "markdown",
   "id": "a4807add",
   "metadata": {},
   "source": [
    "#### Applying ADF test to find whether the data is stationary or not"
   ]
  },
  {
   "cell_type": "code",
   "execution_count": 11,
   "id": "e88be737",
   "metadata": {},
   "outputs": [],
   "source": [
    "from statsmodels.tsa.stattools import adfuller\n",
    "def ad_test(dataset):\n",
    "    dftest=adfuller(dataset,autolag=\"AIC\")\n",
    "    print(\"1.ADF:\",dftest[0])\n",
    "    print(\"2.P-Value:\",dftest[1])\n",
    "    print(\"3.Num of Lags:\",dftest[2])\n",
    "    print(\"4.Num Of Observations Used For ADF Regression and Critical Values Calculation:\",dftest[3])\n",
    "    print(\"5.Critical Values:\")\n",
    "    for key,val in dftest[4].items():\n",
    "        print(\"\\t\",key,\": \",val)\n",
    "  "
   ]
  },
  {
   "cell_type": "code",
   "execution_count": 12,
   "id": "56f80f59",
   "metadata": {},
   "outputs": [
    {
     "name": "stdout",
     "output_type": "stream",
     "text": [
      "1.ADF: -6.55468012506878\n",
      "2.P-Value: 8.67593748019951e-09\n",
      "3.Num of Lags: 12\n",
      "4.Num Of Observations Used For ADF Regression and Critical Values Calculation: 1808\n",
      "5.Critical Values:\n",
      "\t 1% :  -3.433972018026501\n",
      "\t 5% :  -2.8631399192826676\n",
      "\t 10% :  -2.5676217442756872\n"
     ]
    }
   ],
   "source": [
    "ad_test(df['AvgTemp'])"
   ]
  },
  {
   "cell_type": "markdown",
   "id": "2b6f1eeb",
   "metadata": {},
   "source": [
    "p-value<0.05 so, the data is stationary."
   ]
  },
  {
   "cell_type": "code",
   "execution_count": 13,
   "id": "8970c462",
   "metadata": {},
   "outputs": [
    {
     "name": "stderr",
     "output_type": "stream",
     "text": [
      "C:\\Users\\Ankit Kumar\\anaconda3\\lib\\site-packages\\statsmodels\\tsa\\stattools.py:667: FutureWarning: fft=True will become the default after the release of the 0.12 release of statsmodels. To suppress this warning, explicitly set fft=False.\n",
      "  warnings.warn(\n"
     ]
    }
   ],
   "source": [
    "from statsmodels.tsa.stattools import acf, pacf\n",
    "a = acf(df['AvgTemp'], nlags=15)\n",
    "pa = pacf(df['AvgTemp'], nlags=15, method='ols')"
   ]
  },
  {
   "cell_type": "code",
   "execution_count": 14,
   "id": "7be8b090",
   "metadata": {},
   "outputs": [
    {
     "data": {
      "text/plain": [
       "Text(0.5, 1.0, 'ACF')"
      ]
     },
     "execution_count": 14,
     "metadata": {},
     "output_type": "execute_result"
    },
    {
     "data": {
      "image/png": "[encoded data removed]",
      "text/plain": [
       "<Figure size 432x288 with 1 Axes>"
      ]
     },
     "metadata": {
      "needs_background": "light"
     },
     "output_type": "display_data"
    }
   ],
   "source": [
    "#Plotting graph\n",
    "plt.plot(a)\n",
    "plt.xlabel('Lags')\n",
    "plt.ylabel('correlation')\n",
    "plt.axhline(y=0,linestyle='--',color='gray')\n",
    "plt.axhline(y=-1.96/np.sqrt(len(df['AvgTemp'])),linestyle='--',color='gray')\n",
    "plt.axhline(y=1.96/np.sqrt(len(df['AvgTemp'])),linestyle='--',color='gray')\n",
    "plt.title('ACF')"
   ]
  },
  {
   "cell_type": "code",
   "execution_count": 15,
   "id": "ab553041",
   "metadata": {},
   "outputs": [
    {
     "data": {
      "text/plain": [
       "Text(0.5, 1.0, 'PACF')"
      ]
     },
     "execution_count": 15,
     "metadata": {},
     "output_type": "execute_result"
    },
    {
     "data": {
      "image/png": "[encoded data removed]",
      "text/plain": [
       "<Figure size 432x288 with 1 Axes>"
      ]
     },
     "metadata": {
      "needs_background": "light"
     },
     "output_type": "display_data"
    }
   ],
   "source": [
    "plt.plot(pa)\n",
    "plt.xlabel('Lags')\n",
    "plt.ylabel('correlation')\n",
    "plt.axhline(y=0,linestyle='--',color='gray')\n",
    "plt.axhline(y=-1.96/np.sqrt(len(df['AvgTemp'])),linestyle='--',color='gray')\n",
    "plt.axhline(y=1.96/np.sqrt(len(df['AvgTemp'])),linestyle='--',color='gray')\n",
    "plt.title('PACF')"
   ]
  },
  {
   "cell_type": "code",
   "execution_count": 16,
   "id": "38a01683",
   "metadata": {},
   "outputs": [],
   "source": [
    "from pmdarima import auto_arima\n",
    "import warnings\n",
    "warnings.filterwarnings(\"ignore\")"
   ]
  },
  {
   "cell_type": "code",
   "execution_count": 17,
   "id": "49e1db1f",
   "metadata": {},
   "outputs": [
    {
     "name": "stdout",
     "output_type": "stream",
     "text": [
      "Performing stepwise search to minimize aic\n",
      " ARIMA(2,0,2)(0,0,0)[0] intercept   : AIC=8343.696, Time=2.74 sec\n",
      " ARIMA(0,0,0)(0,0,0)[0] intercept   : AIC=10347.755, Time=0.06 sec\n",
      " ARIMA(1,0,0)(0,0,0)[0] intercept   : AIC=8365.701, Time=0.26 sec\n",
      " ARIMA(0,0,1)(0,0,0)[0] intercept   : AIC=9136.225, Time=0.38 sec\n",
      " ARIMA(0,0,0)(0,0,0)[0]             : AIC=19192.139, Time=0.02 sec\n",
      " ARIMA(1,0,2)(0,0,0)[0] intercept   : AIC=8355.947, Time=1.77 sec\n",
      " ARIMA(2,0,1)(0,0,0)[0] intercept   : AIC=8356.308, Time=2.40 sec\n",
      " ARIMA(3,0,2)(0,0,0)[0] intercept   : AIC=8347.333, Time=3.06 sec\n",
      " ARIMA(2,0,3)(0,0,0)[0] intercept   : AIC=8317.842, Time=3.25 sec\n",
      " ARIMA(1,0,3)(0,0,0)[0] intercept   : AIC=8330.190, Time=2.90 sec\n",
      " ARIMA(3,0,3)(0,0,0)[0] intercept   : AIC=8311.075, Time=3.68 sec\n",
      " ARIMA(4,0,3)(0,0,0)[0] intercept   : AIC=8332.529, Time=3.82 sec\n",
      " ARIMA(3,0,4)(0,0,0)[0] intercept   : AIC=8317.457, Time=4.21 sec\n",
      " ARIMA(2,0,4)(0,0,0)[0] intercept   : AIC=8306.397, Time=3.90 sec\n",
      " ARIMA(1,0,4)(0,0,0)[0] intercept   : AIC=8297.264, Time=3.38 sec\n",
      " ARIMA(0,0,4)(0,0,0)[0] intercept   : AIC=8455.435, Time=1.04 sec\n",
      " ARIMA(1,0,5)(0,0,0)[0] intercept   : AIC=8295.204, Time=4.03 sec\n",
      " ARIMA(0,0,5)(0,0,0)[0] intercept   : AIC=8419.091, Time=1.31 sec\n",
      " ARIMA(2,0,5)(0,0,0)[0] intercept   : AIC=8302.508, Time=4.18 sec\n",
      " ARIMA(1,0,5)(0,0,0)[0]             : AIC=8304.533, Time=0.58 sec\n",
      "\n",
      "Best model:  ARIMA(1,0,5)(0,0,0)[0] intercept\n",
      "Total fit time: 47.007 seconds\n"
     ]
    },
    {
     "data": {
      "text/html": [
       "<table class=\"simpletable\">\n",
       "<caption>SARIMAX Results</caption>\n",
       "<tr>\n",
       "  <th>Dep. Variable:</th>           <td>y</td>        <th>  No. Observations:  </th>   <td>1821</td>   \n",
       "</tr>\n",
       "<tr>\n",
       "  <th>Model:</th>           <td>SARIMAX(1, 0, 5)</td> <th>  Log Likelihood     </th> <td>-4139.602</td>\n",
       "</tr>\n",
       "<tr>\n",
       "  <th>Date:</th>            <td>Sun, 03 Jul 2022</td> <th>  AIC                </th> <td>8295.204</td> \n",
       "</tr>\n",
       "<tr>\n",
       "  <th>Time:</th>                <td>20:53:11</td>     <th>  BIC                </th> <td>8339.261</td> \n",
       "</tr>\n",
       "<tr>\n",
       "  <th>Sample:</th>                  <td>0</td>        <th>  HQIC               </th> <td>8311.457</td> \n",
       "</tr>\n",
       "<tr>\n",
       "  <th></th>                      <td> - 1821</td>     <th>                     </th>     <td> </td>    \n",
       "</tr>\n",
       "<tr>\n",
       "  <th>Covariance Type:</th>        <td>opg</td>       <th>                     </th>     <td> </td>    \n",
       "</tr>\n",
       "</table>\n",
       "<table class=\"simpletable\">\n",
       "<tr>\n",
       "      <td></td>         <th>coef</th>     <th>std err</th>      <th>z</th>      <th>P>|z|</th>  <th>[0.025</th>    <th>0.975]</th>  \n",
       "</tr>\n",
       "<tr>\n",
       "  <th>intercept</th> <td>    1.2877</td> <td>    0.385</td> <td>    3.343</td> <td> 0.001</td> <td>    0.533</td> <td>    2.043</td>\n",
       "</tr>\n",
       "<tr>\n",
       "  <th>ar.L1</th>     <td>    0.9723</td> <td>    0.008</td> <td>  117.243</td> <td> 0.000</td> <td>    0.956</td> <td>    0.989</td>\n",
       "</tr>\n",
       "<tr>\n",
       "  <th>ma.L1</th>     <td>   -0.1199</td> <td>    0.024</td> <td>   -4.988</td> <td> 0.000</td> <td>   -0.167</td> <td>   -0.073</td>\n",
       "</tr>\n",
       "<tr>\n",
       "  <th>ma.L2</th>     <td>   -0.2165</td> <td>    0.024</td> <td>   -8.869</td> <td> 0.000</td> <td>   -0.264</td> <td>   -0.169</td>\n",
       "</tr>\n",
       "<tr>\n",
       "  <th>ma.L3</th>     <td>   -0.2039</td> <td>    0.024</td> <td>   -8.445</td> <td> 0.000</td> <td>   -0.251</td> <td>   -0.157</td>\n",
       "</tr>\n",
       "<tr>\n",
       "  <th>ma.L4</th>     <td>   -0.1334</td> <td>    0.023</td> <td>   -5.811</td> <td> 0.000</td> <td>   -0.178</td> <td>   -0.088</td>\n",
       "</tr>\n",
       "<tr>\n",
       "  <th>ma.L5</th>     <td>   -0.0482</td> <td>    0.025</td> <td>   -1.964</td> <td> 0.050</td> <td>   -0.096</td> <td>   -0.000</td>\n",
       "</tr>\n",
       "<tr>\n",
       "  <th>sigma2</th>    <td>    5.5376</td> <td>    0.175</td> <td>   31.713</td> <td> 0.000</td> <td>    5.195</td> <td>    5.880</td>\n",
       "</tr>\n",
       "</table>\n",
       "<table class=\"simpletable\">\n",
       "<tr>\n",
       "  <th>Ljung-Box (L1) (Q):</th>     <td>0.03</td> <th>  Jarque-Bera (JB):  </th> <td>20.71</td>\n",
       "</tr>\n",
       "<tr>\n",
       "  <th>Prob(Q):</th>                <td>0.86</td> <th>  Prob(JB):          </th> <td>0.00</td> \n",
       "</tr>\n",
       "<tr>\n",
       "  <th>Heteroskedasticity (H):</th> <td>0.81</td> <th>  Skew:              </th> <td>-0.17</td>\n",
       "</tr>\n",
       "<tr>\n",
       "  <th>Prob(H) (two-sided):</th>    <td>0.01</td> <th>  Kurtosis:          </th> <td>3.39</td> \n",
       "</tr>\n",
       "</table><br/><br/>Warnings:<br/>[1] Covariance matrix calculated using the outer product of gradients (complex-step)."
      ],
      "text/plain": [
       "<class 'statsmodels.iolib.summary.Summary'>\n",
       "\"\"\"\n",
       "                               SARIMAX Results                                \n",
       "==============================================================================\n",
       "Dep. Variable:                      y   No. Observations:                 1821\n",
       "Model:               SARIMAX(1, 0, 5)   Log Likelihood               -4139.602\n",
       "Date:                Sun, 03 Jul 2022   AIC                           8295.204\n",
       "Time:                        20:53:11   BIC                           8339.261\n",
       "Sample:                             0   HQIC                          8311.457\n",
       "                               - 1821                                         \n",
       "Covariance Type:                  opg                                         \n",
       "==============================================================================\n",
       "                 coef    std err          z      P>|z|      [0.025      0.975]\n",
       "------------------------------------------------------------------------------\n",
       "intercept      1.2877      0.385      3.343      0.001       0.533       2.043\n",
       "ar.L1          0.9723      0.008    117.243      0.000       0.956       0.989\n",
       "ma.L1         -0.1199      0.024     -4.988      0.000      -0.167      -0.073\n",
       "ma.L2         -0.2165      0.024     -8.869      0.000      -0.264      -0.169\n",
       "ma.L3         -0.2039      0.024     -8.445      0.000      -0.251      -0.157\n",
       "ma.L4         -0.1334      0.023     -5.811      0.000      -0.178      -0.088\n",
       "ma.L5         -0.0482      0.025     -1.964      0.050      -0.096      -0.000\n",
       "sigma2         5.5376      0.175     31.713      0.000       5.195       5.880\n",
       "===================================================================================\n",
       "Ljung-Box (L1) (Q):                   0.03   Jarque-Bera (JB):                20.71\n",
       "Prob(Q):                              0.86   Prob(JB):                         0.00\n",
       "Heteroskedasticity (H):               0.81   Skew:                            -0.17\n",
       "Prob(H) (two-sided):                  0.01   Kurtosis:                         3.39\n",
       "===================================================================================\n",
       "\n",
       "Warnings:\n",
       "[1] Covariance matrix calculated using the outer product of gradients (complex-step).\n",
       "\"\"\""
      ]
     },
     "execution_count": 17,
     "metadata": {},
     "output_type": "execute_result"
    }
   ],
   "source": [
    "stepwise_fit=auto_arima(df['AvgTemp'],trace=True,suppress_warnings=True)\n",
    "stepwise_fit.summary()              "
   ]
  },
  {
   "cell_type": "code",
   "execution_count": 18,
   "id": "9b45e40e",
   "metadata": {},
   "outputs": [],
   "source": [
    "# Importing ARIMA model\n",
    "from statsmodels.tsa.arima_model import ARIMA"
   ]
  },
  {
   "cell_type": "code",
   "execution_count": 19,
   "id": "14d11267",
   "metadata": {},
   "outputs": [
    {
     "name": "stdout",
     "output_type": "stream",
     "text": [
      "(1821, 5)\n",
      "(1791, 5) (30, 5)\n"
     ]
    }
   ],
   "source": [
    "print(df.shape)\n",
    "train=df.iloc[:-30]\n",
    "test=df.iloc[-30:]\n",
    "print(train.shape,test.shape)"
   ]
  },
  {
   "cell_type": "code",
   "execution_count": 20,
   "id": "5fb36791",
   "metadata": {},
   "outputs": [
    {
     "data": {
      "text/html": [
       "<table class=\"simpletable\">\n",
       "<caption>ARMA Model Results</caption>\n",
       "<tr>\n",
       "  <th>Dep. Variable:</th>      <td>AvgTemp</td>     <th>  No. Observations:  </th>   <td>1791</td>   \n",
       "</tr>\n",
       "<tr>\n",
       "  <th>Model:</th>            <td>ARMA(1, 5)</td>    <th>  Log Likelihood     </th> <td>-4070.198</td>\n",
       "</tr>\n",
       "<tr>\n",
       "  <th>Method:</th>             <td>css-mle</td>     <th>  S.D. of innovations</th>   <td>2.347</td>  \n",
       "</tr>\n",
       "<tr>\n",
       "  <th>Date:</th>          <td>Sun, 03 Jul 2022</td> <th>  AIC                </th> <td>8156.395</td> \n",
       "</tr>\n",
       "<tr>\n",
       "  <th>Time:</th>              <td>20:53:13</td>     <th>  BIC                </th> <td>8200.320</td> \n",
       "</tr>\n",
       "<tr>\n",
       "  <th>Sample:</th>                <td>0</td>        <th>  HQIC               </th> <td>8172.614</td> \n",
       "</tr>\n",
       "<tr>\n",
       "  <th></th>                       <td> </td>        <th>                     </th>     <td> </td>    \n",
       "</tr>\n",
       "</table>\n",
       "<table class=\"simpletable\">\n",
       "<tr>\n",
       "        <td></td>           <th>coef</th>     <th>std err</th>      <th>z</th>      <th>P>|z|</th>  <th>[0.025</th>    <th>0.975]</th>  \n",
       "</tr>\n",
       "<tr>\n",
       "  <th>const</th>         <td>   46.5857</td> <td>    0.785</td> <td>   59.355</td> <td> 0.000</td> <td>   45.047</td> <td>   48.124</td>\n",
       "</tr>\n",
       "<tr>\n",
       "  <th>ar.L1.AvgTemp</th> <td>    0.9856</td> <td>    0.007</td> <td>  150.630</td> <td> 0.000</td> <td>    0.973</td> <td>    0.998</td>\n",
       "</tr>\n",
       "<tr>\n",
       "  <th>ma.L1.AvgTemp</th> <td>   -0.1412</td> <td>    0.025</td> <td>   -5.735</td> <td> 0.000</td> <td>   -0.190</td> <td>   -0.093</td>\n",
       "</tr>\n",
       "<tr>\n",
       "  <th>ma.L2.AvgTemp</th> <td>   -0.2268</td> <td>    0.024</td> <td>   -9.295</td> <td> 0.000</td> <td>   -0.275</td> <td>   -0.179</td>\n",
       "</tr>\n",
       "<tr>\n",
       "  <th>ma.L3.AvgTemp</th> <td>   -0.2168</td> <td>    0.026</td> <td>   -8.416</td> <td> 0.000</td> <td>   -0.267</td> <td>   -0.166</td>\n",
       "</tr>\n",
       "<tr>\n",
       "  <th>ma.L4.AvgTemp</th> <td>   -0.1479</td> <td>    0.023</td> <td>   -6.300</td> <td> 0.000</td> <td>   -0.194</td> <td>   -0.102</td>\n",
       "</tr>\n",
       "<tr>\n",
       "  <th>ma.L5.AvgTemp</th> <td>   -0.0594</td> <td>    0.025</td> <td>   -2.411</td> <td> 0.016</td> <td>   -0.108</td> <td>   -0.011</td>\n",
       "</tr>\n",
       "</table>\n",
       "<table class=\"simpletable\">\n",
       "<caption>Roots</caption>\n",
       "<tr>\n",
       "    <td></td>   <th>            Real</th>  <th>         Imaginary</th> <th>         Modulus</th>  <th>        Frequency</th>\n",
       "</tr>\n",
       "<tr>\n",
       "  <th>AR.1</th> <td>           1.0146</td> <td>          +0.0000j</td> <td>           1.0146</td> <td>           0.0000</td>\n",
       "</tr>\n",
       "<tr>\n",
       "  <th>MA.1</th> <td>           1.0883</td> <td>          -0.0000j</td> <td>           1.0883</td> <td>          -0.0000</td>\n",
       "</tr>\n",
       "<tr>\n",
       "  <th>MA.2</th> <td>           0.0555</td> <td>          -1.8423j</td> <td>           1.8431</td> <td>          -0.2452</td>\n",
       "</tr>\n",
       "<tr>\n",
       "  <th>MA.3</th> <td>           0.0555</td> <td>          +1.8423j</td> <td>           1.8431</td> <td>           0.2452</td>\n",
       "</tr>\n",
       "<tr>\n",
       "  <th>MA.4</th> <td>          -1.8432</td> <td>          -1.0734j</td> <td>           2.1330</td> <td>          -0.4161</td>\n",
       "</tr>\n",
       "<tr>\n",
       "  <th>MA.5</th> <td>          -1.8432</td> <td>          +1.0734j</td> <td>           2.1330</td> <td>           0.4161</td>\n",
       "</tr>\n",
       "</table>"
      ],
      "text/plain": [
       "<class 'statsmodels.iolib.summary.Summary'>\n",
       "\"\"\"\n",
       "                              ARMA Model Results                              \n",
       "==============================================================================\n",
       "Dep. Variable:                AvgTemp   No. Observations:                 1791\n",
       "Model:                     ARMA(1, 5)   Log Likelihood               -4070.198\n",
       "Method:                       css-mle   S.D. of innovations              2.347\n",
       "Date:                Sun, 03 Jul 2022   AIC                           8156.395\n",
       "Time:                        20:53:13   BIC                           8200.320\n",
       "Sample:                             0   HQIC                          8172.614\n",
       "                                                                              \n",
       "=================================================================================\n",
       "                    coef    std err          z      P>|z|      [0.025      0.975]\n",
       "---------------------------------------------------------------------------------\n",
       "const            46.5857      0.785     59.355      0.000      45.047      48.124\n",
       "ar.L1.AvgTemp     0.9856      0.007    150.630      0.000       0.973       0.998\n",
       "ma.L1.AvgTemp    -0.1412      0.025     -5.735      0.000      -0.190      -0.093\n",
       "ma.L2.AvgTemp    -0.2268      0.024     -9.295      0.000      -0.275      -0.179\n",
       "ma.L3.AvgTemp    -0.2168      0.026     -8.416      0.000      -0.267      -0.166\n",
       "ma.L4.AvgTemp    -0.1479      0.023     -6.300      0.000      -0.194      -0.102\n",
       "ma.L5.AvgTemp    -0.0594      0.025     -2.411      0.016      -0.108      -0.011\n",
       "                                    Roots                                    \n",
       "=============================================================================\n",
       "                  Real          Imaginary           Modulus         Frequency\n",
       "-----------------------------------------------------------------------------\n",
       "AR.1            1.0146           +0.0000j            1.0146            0.0000\n",
       "MA.1            1.0883           -0.0000j            1.0883           -0.0000\n",
       "MA.2            0.0555           -1.8423j            1.8431           -0.2452\n",
       "MA.3            0.0555           +1.8423j            1.8431            0.2452\n",
       "MA.4           -1.8432           -1.0734j            2.1330           -0.4161\n",
       "MA.5           -1.8432           +1.0734j            2.1330            0.4161\n",
       "-----------------------------------------------------------------------------\n",
       "\"\"\""
      ]
     },
     "execution_count": 20,
     "metadata": {},
     "output_type": "execute_result"
    }
   ],
   "source": [
    "model=ARIMA(train['AvgTemp'],order=(1,0,5))\n",
    "model=model.fit()\n",
    "model.summary()"
   ]
  },
  {
   "cell_type": "code",
   "execution_count": 21,
   "id": "0fcd3473",
   "metadata": {
    "scrolled": false
   },
   "outputs": [
    {
     "name": "stdout",
     "output_type": "stream",
     "text": [
      "DATE\n",
      "2018-12-01    44.754153\n",
      "2018-12-02    44.987870\n",
      "2018-12-03    45.388833\n",
      "2018-12-04    45.721635\n",
      "2018-12-05    45.863812\n",
      "2018-12-06    45.874207\n",
      "2018-12-07    45.884453\n",
      "2018-12-08    45.894551\n",
      "2018-12-09    45.904504\n",
      "2018-12-10    45.914313\n",
      "2018-12-11    45.923981\n",
      "2018-12-12    45.933510\n",
      "2018-12-13    45.942902\n",
      "2018-12-14    45.952158\n",
      "2018-12-15    45.961282\n",
      "2018-12-16    45.970273\n",
      "2018-12-17    45.979136\n",
      "2018-12-18    45.987870\n",
      "2018-12-19    45.996479\n",
      "2018-12-20    46.004964\n",
      "2018-12-21    46.013327\n",
      "2018-12-22    46.021569\n",
      "2018-12-23    46.029693\n",
      "2018-12-24    46.037699\n",
      "2018-12-25    46.045590\n",
      "2018-12-26    46.053368\n",
      "2018-12-27    46.061034\n",
      "2018-12-28    46.068589\n",
      "2018-12-29    46.076035\n",
      "2018-12-30    46.083375\n",
      "dtype: float64\n"
     ]
    }
   ],
   "source": [
    "start=len(train)\n",
    "end=len(train)+len(test)-1\n",
    "pred=model.predict(start=start,end=end,typ='level')\n",
    "pred.index=df.index[start:end+1]\n",
    "print(pred)"
   ]
  },
  {
   "cell_type": "code",
   "execution_count": 22,
   "id": "eadebcfc",
   "metadata": {},
   "outputs": [
    {
     "data": {
      "text/plain": [
       "<AxesSubplot:xlabel='DATE'>"
      ]
     },
     "execution_count": 22,
     "metadata": {},
     "output_type": "execute_result"
    },
    {
     "data": {
      "image/png": "[encoded data removed]",
      "text/plain": [
       "<Figure size 432x288 with 1 Axes>"
      ]
     },
     "metadata": {
      "needs_background": "light"
     },
     "output_type": "display_data"
    }
   ],
   "source": [
    "pred.plot(legend=True)\n",
    "test['AvgTemp'].plot(legend=True)"
   ]
  },
  {
   "cell_type": "code",
   "execution_count": 23,
   "id": "db2aae59",
   "metadata": {},
   "outputs": [
    {
     "data": {
      "text/plain": [
       "45.0"
      ]
     },
     "execution_count": 23,
     "metadata": {},
     "output_type": "execute_result"
    }
   ],
   "source": [
    "test['AvgTemp'].mean()"
   ]
  },
  {
   "cell_type": "code",
   "execution_count": 24,
   "id": "fccc0600",
   "metadata": {},
   "outputs": [
    {
     "name": "stdout",
     "output_type": "stream",
     "text": [
      "3.0004943595512423\n"
     ]
    }
   ],
   "source": [
    "# Calculating RMSE\n",
    "from sklearn.metrics import mean_squared_error\n",
    "from math import sqrt\n",
    "rmse=sqrt(mean_squared_error(pred,test['AvgTemp']))\n",
    "print(rmse)"
   ]
  },
  {
   "cell_type": "code",
   "execution_count": null,
   "id": "ab610739",
   "metadata": {},
   "outputs": [],
   "source": []
  }
 ],
 "metadata": {
  "kernelspec": {
   "display_name": "Python 3 (ipykernel)",
   "language": "python",
   "name": "python3"
  },
  "language_info": {
   "codemirror_mode": {
    "name": "ipython",
    "version": 3
   },
   "file_extension": ".py",
   "mimetype": "text/x-python",
   "name": "python",
   "nbconvert_exporter": "python",
   "pygments_lexer": "ipython3",
   "version": "3.9.7"
  }
 },
 "nbformat": 4,
 "nbformat_minor": 5
}
